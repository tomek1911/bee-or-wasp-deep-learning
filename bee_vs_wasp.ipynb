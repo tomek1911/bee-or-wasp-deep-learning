{
  "nbformat": 4,
  "nbformat_minor": 0,
  "metadata": {
    "colab": {
      "name": "bee_vs_wasp.ipynb",
      "provenance": [],
      "collapsed_sections": [],
      "include_colab_link": true
    },
    "kernelspec": {
      "display_name": "Python 3",
      "name": "python3"
    },
    "accelerator": "GPU"
  },
  "cells": [
    {
      "cell_type": "markdown",
      "metadata": {
        "id": "view-in-github",
        "colab_type": "text"
      },
      "source": [
        "<a href=\"https://colab.research.google.com/github/tomek1911/bee-or-wasp-deep-learning/blob/master/bee_vs_wasp.ipynb\" target=\"_parent\"><img src=\"https://colab.research.google.com/assets/colab-badge.svg\" alt=\"Open In Colab\"/></a>"
      ]
    },
    {
      "cell_type": "code",
      "metadata": {
        "colab": {
          "resources": {
            "http://localhost:8080/nbextensions/google.colab/files.js": {
              "data": "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",
              "ok": true,
              "headers": [
                [
                  "content-type",
                  "application/javascript"
                ]
              ],
              "status": 200,
              "status_text": ""
            }
          },
          "base_uri": "https://localhost:8080/",
          "height": 91
        },
        "id": "cMHQoPY4O_dS",
        "outputId": "e8bbfac9-5d09-45ca-ea66-3a22d437b627"
      },
      "source": [
        "! pip install -q kaggle\n",
        "\n",
        "from google.colab import files\n",
        "\n",
        "# import your kaggle credentials in kaggle.json file sa explained in:\n",
        "# https://www.kaggle.com/general/74235\n",
        "files.upload()"
      ],
      "execution_count": 1,
      "outputs": [
        {
          "output_type": "display_data",
          "data": {
            "text/html": [
              "\n",
              "     <input type=\"file\" id=\"files-bc2563a7-cc3e-46ee-83af-fb91943d6914\" name=\"files[]\" multiple disabled\n",
              "        style=\"border:none\" />\n",
              "     <output id=\"result-bc2563a7-cc3e-46ee-83af-fb91943d6914\">\n",
              "      Upload widget is only available when the cell has been executed in the\n",
              "      current browser session. Please rerun this cell to enable.\n",
              "      </output>\n",
              "      <script src=\"/nbextensions/google.colab/files.js\"></script> "
            ],
            "text/plain": [
              "<IPython.core.display.HTML object>"
            ]
          },
          "metadata": {
            "tags": []
          }
        },
        {
          "output_type": "stream",
          "text": [
            "Saving kaggle.json to kaggle.json\n"
          ],
          "name": "stdout"
        },
        {
          "output_type": "execute_result",
          "data": {
            "text/plain": [
              "{'kaggle.json': b'{\"username\":\"micharosa\",\"key\":\"c34f6df8dda23f417041431ae70e46c8\"}'}"
            ]
          },
          "metadata": {
            "tags": []
          },
          "execution_count": 1
        }
      ]
    },
    {
      "cell_type": "code",
      "metadata": {
        "colab": {
          "base_uri": "https://localhost:8080/"
        },
        "id": "yFkX76XoQiF1",
        "outputId": "997e8e39-621e-4369-daa6-4dc834c23687"
      },
      "source": [
        "! mkdir ~/.kaggle\n",
        "! cp kaggle.json ~/.kaggle/\n",
        "! chmod 600 ~/.kaggle/kaggle.json\n",
        "\n",
        "# check if kaggle API works\n",
        "! kaggle datasets list"
      ],
      "execution_count": 2,
      "outputs": [
        {
          "output_type": "stream",
          "text": [
            "Warning: Looks like you're using an outdated API Version, please consider updating (server 1.5.10 / client 1.5.4)\n",
            "ref                                                    title                                                size  lastUpdated          downloadCount  \n",
            "-----------------------------------------------------  --------------------------------------------------  -----  -------------------  -------------  \n",
            "gpreda/covid-world-vaccination-progress                COVID-19 World Vaccination Progress                  37KB  2021-01-29 06:59:19           3576  \n",
            "jorgesandoval/wind-power-generation                    Wind Power Generation Data                          245KB  2021-01-07 18:45:08            326  \n",
            "google/android-smartphones-high-accuracy-datasets      Android smartphones high accuracy GNSS datasets       1GB  2020-12-23 01:51:11            697  \n",
            "ayushggarg/all-trumps-twitter-insults-20152021         All Trump's Twitter insults (2015-2021)             581KB  2021-01-20 16:51:05            694  \n",
            "cdminix/us-drought-meteorological-data                 US Drought & Meteorological Data                    748MB  2021-01-20 21:48:02            120  \n",
            "sevgisarac/temperature-change                          Temperature change                                  778KB  2020-12-24 20:06:36            767  \n",
            "fedesoriano/cern-electron-collision-data               CERN electron collision data                          6MB  2020-12-25 19:04:17            135  \n",
            "tapakah68/segmentation-full-body-mads-dataset          Segmentation Full Body MADS Dataset                 474MB  2021-01-20 18:43:02             45  \n",
            "utkarshxy/who-worldhealth-statistics-2020-complete     World Health Statistics 2020|Complete|Geo-Analysis    1MB  2021-01-25 06:11:19           6496  \n",
            "sakshigoyal7/credit-card-customers                     Credit Card customers                               379KB  2020-11-19 07:38:44          20980  \n",
            "gpreda/pfizer-vaccine-tweets                           Pfizer Vaccine Tweets                               787KB  2021-01-29 06:58:34           3632  \n",
            "yamaerenay/spotify-dataset-19212020-160k-tracks        Spotify Dataset 1921-2020, 160k+ Tracks              17MB  2021-01-24 23:46:53          18162  \n",
            "arashnic/covid19-case-surveillance-public-use-dataset  Covid-19 Case Surveillance Public Use Dataset        46MB  2020-12-21 02:24:21           3069  \n",
            "arashnic/hr-analytics-job-change-of-data-scientists    HR Analytics: Job Change of Data Scientists         295KB  2020-12-07 00:25:10           5273  \n",
            "google/tinyquickdraw                                   QuickDraw Sketches                                   11GB  2018-04-18 19:38:04           2785  \n",
            "sootersaalu/amazon-top-50-bestselling-books-2009-2019  Amazon Top 50 Bestselling Books 2009 - 2019          15KB  2020-10-13 09:39:21          15416  \n",
            "datasnaek/youtube-new                                  Trending YouTube Video Statistics                   201MB  2019-06-03 00:56:47         125247  \n",
            "zynicide/wine-reviews                                  Wine Reviews                                         51MB  2017-11-27 17:08:04         126764  \n",
            "datasnaek/chess                                        Chess Game Dataset (Lichess)                          3MB  2017-09-04 03:09:09          14153  \n",
            "nasa/kepler-exoplanet-search-results                   Kepler Exoplanet Search Results                       1MB  2017-10-10 18:26:59           5871  \n"
          ],
          "name": "stdout"
        }
      ]
    },
    {
      "cell_type": "code",
      "metadata": {
        "id": "Y-GPY6GAQ8bA",
        "colab": {
          "base_uri": "https://localhost:8080/"
        },
        "outputId": "bc6de0ef-c2c2-4839-9ee7-f4ec07bed1ad"
      },
      "source": [
        "! kaggle datasets download jerzydziewierz/bee-vs-wasp --unzip"
      ],
      "execution_count": 3,
      "outputs": [
        {
          "output_type": "stream",
          "text": [
            "Downloading bee-vs-wasp.zip to /content\n",
            " 98% 545M/559M [00:07<00:00, 84.2MB/s]\n",
            "100% 559M/559M [00:07<00:00, 80.6MB/s]\n"
          ],
          "name": "stdout"
        }
      ]
    },
    {
      "cell_type": "code",
      "metadata": {
        "id": "tTkg44dFB6a0"
      },
      "source": [
        "import os\r\n",
        "import numpy as np\r\n",
        "import pandas as pd\r\n",
        "import glob\r\n",
        "import torch\r\n",
        "import cv2\r\n",
        "import random\r\n",
        "import imutils\r\n",
        "import imgaug as ia\r\n",
        "import imgaug.augmenters as iaa\r\n",
        "import imgaug.parameters as iap\r\n",
        "from math import *\r\n",
        "from PIL import Image\r\n",
        "from imgaug.augmenters import Sequential\r\n",
        "from torch.utils.data import Dataset, DataLoader, random_split\r\n",
        "from sklearn.preprocessing import LabelEncoder\r\n",
        "import torchvision.transforms.functional as tf"
      ],
      "execution_count": 4,
      "outputs": []
    },
    {
      "cell_type": "markdown",
      "metadata": {
        "id": "wP99k0HnN-6L"
      },
      "source": [
        "## Wczytanie danych"
      ]
    },
    {
      "cell_type": "code",
      "metadata": {
        "id": "xg8owr7qN9lV",
        "colab": {
          "base_uri": "https://localhost:8080/"
        },
        "outputId": "f00bb9fa-1188-43bc-cfee-fe746f8c40ab"
      },
      "source": [
        "data = pd.read_csv(\"/content/kaggle_bee_vs_wasp/labels.csv\")\r\n",
        "for i in data.index:\r\n",
        "    data[\"path\"].iloc[i] = data[\"path\"].iloc[i].replace(\"\\\\\", \"/\")\r\n",
        "le = LabelEncoder()\r\n",
        "le.fit(data[\"label\"])\r\n",
        "data[\"label\"] = le.transform(data[\"label\"])\r\n",
        "data.info()"
      ],
      "execution_count": 5,
      "outputs": [
        {
          "output_type": "stream",
          "text": [
            "/usr/local/lib/python3.6/dist-packages/pandas/core/indexing.py:670: SettingWithCopyWarning: \n",
            "A value is trying to be set on a copy of a slice from a DataFrame\n",
            "\n",
            "See the caveats in the documentation: https://pandas.pydata.org/pandas-docs/stable/user_guide/indexing.html#returning-a-view-versus-a-copy\n",
            "  iloc._setitem_with_indexer(indexer, value)\n"
          ],
          "name": "stderr"
        },
        {
          "output_type": "stream",
          "text": [
            "<class 'pandas.core.frame.DataFrame'>\n",
            "RangeIndex: 11421 entries, 0 to 11420\n",
            "Data columns (total 10 columns):\n",
            " #   Column               Non-Null Count  Dtype \n",
            "---  ------               --------------  ----- \n",
            " 0   id                   11421 non-null  int64 \n",
            " 1   path                 11421 non-null  object\n",
            " 2   is_bee               11421 non-null  int64 \n",
            " 3   is_wasp              11421 non-null  int64 \n",
            " 4   is_otherinsect       11421 non-null  int64 \n",
            " 5   is_other             11421 non-null  int64 \n",
            " 6   photo_quality        11421 non-null  int64 \n",
            " 7   is_validation        11421 non-null  int64 \n",
            " 8   is_final_validation  11421 non-null  int64 \n",
            " 9   label                11421 non-null  int64 \n",
            "dtypes: int64(9), object(1)\n",
            "memory usage: 892.4+ KB\n"
          ],
          "name": "stdout"
        }
      ]
    },
    {
      "cell_type": "markdown",
      "metadata": {
        "id": "-HxqqrG0TR_1"
      },
      "source": [
        "## Podział danych "
      ]
    },
    {
      "cell_type": "code",
      "metadata": {
        "id": "aqT-eVrKTX2q",
        "colab": {
          "base_uri": "https://localhost:8080/"
        },
        "outputId": "89b463b5-3f7b-4139-b044-cb643b548841"
      },
      "source": [
        "def split_data(dataset):\r\n",
        "    index = list()\r\n",
        "    validation = pd.DataFrame()\r\n",
        "    final_validation = pd.DataFrame()\r\n",
        "    for i in data.index:\r\n",
        "        if dataset[\"is_validation\"].iloc[i] == 1:\r\n",
        "            validation = validation.append(dataset.iloc[i])\r\n",
        "            index.append(i)\r\n",
        "        if dataset[\"is_final_validation\"].iloc[i] == 1:    \r\n",
        "            final_validation = final_validation.append(dataset.iloc[i])\r\n",
        "            index.append(i)\r\n",
        "\r\n",
        "    dataset = dataset.drop(dataset.index[index])\r\n",
        "    dataset = dataset.reset_index()\r\n",
        "    validation = validation.reset_index()\r\n",
        "    final_validation = final_validation.reset_index()\r\n",
        "    return dataset, validation, final_validation \r\n",
        "\r\n",
        "train_df, val_df, test_df = split_data(data)\r\n",
        "\r\n",
        "# sanity check\r\n",
        "print(\"Length of train dataset: \", len(train_df))\r\n",
        "print(\"Length of validation dataset: \" ,len(val_df))\r\n",
        "print(\"Length of test dataset: \", len(test_df))\r\n",
        "\r\n",
        "val_df.label = val_df.label.astype(np.int64)\r\n",
        "test_df.label = test_df.label.astype(np.int64)"
      ],
      "execution_count": 6,
      "outputs": [
        {
          "output_type": "stream",
          "text": [
            "Length of train dataset:  7939\n",
            "Length of validation dataset:  1719\n",
            "Length of test dataset:  1763\n"
          ],
          "name": "stdout"
        }
      ]
    },
    {
      "cell_type": "markdown",
      "metadata": {
        "id": "ZDAj2Y30V40p"
      },
      "source": [
        "## Augmentacja"
      ]
    },
    {
      "cell_type": "code",
      "metadata": {
        "id": "N4iNPz59V3Wa"
      },
      "source": [
        "class Transforms():\r\n",
        "    def __init__(self, train: bool = False):\r\n",
        "      self.train = train\r\n",
        "    \r\n",
        "    def rotate(self, image, angle):\r\n",
        "      angle = random.uniform(-angle, +angle)\r\n",
        "\r\n",
        "      transformation_matrix = torch.tensor([\r\n",
        "          [+cos(radians(angle)), -sin(radians(angle))], \r\n",
        "          [+sin(radians(angle)), +cos(radians(angle))]\r\n",
        "      ])\r\n",
        "\r\n",
        "      image = imutils.rotate(np.array(image), angle)\r\n",
        "\r\n",
        "      return Image.fromarray(image)\r\n",
        "\r\n",
        "    def resize(self, image, img_size):\r\n",
        "      image = tf.resize(image, img_size)\r\n",
        "      return image\r\n",
        "\r\n",
        "    def color_jitter(self, image):\r\n",
        "      color_jitter = transforms.ColorJitter(brightness=0.3, \r\n",
        "                                            contrast=0.3,\r\n",
        "                                            saturation=0.3, \r\n",
        "                                            hue=0.1)\r\n",
        "      image = color_jitter(image)\r\n",
        "      return image\r\n",
        "\r\n",
        "    def crop(self, image, crops):\r\n",
        "      left = int(random.uniform(0, crops['left']))\r\n",
        "      top = int(random.uniform(0, crops['top']))\r\n",
        "      width = int(random.uniform(crops['width'], 224))\r\n",
        "      height = int(random.uniform(crops['height'], 224))\r\n",
        "\r\n",
        "      image = tf.crop(image, top, left, height, width)\r\n",
        "\r\n",
        "      img_shape = np.array(image).shape\r\n",
        "      return image\r\n",
        "\r\n",
        "    def __call__(self, image):\r\n",
        "      image = Image.fromarray(image)\r\n",
        "\r\n",
        "      image = self.resize(image, (224, 224))\r\n",
        "      if self.train:\r\n",
        "        image = self.crop(image, {'left': 15,\r\n",
        "                                  'top': 15,\r\n",
        "                                  'width': 210,\r\n",
        "                                  'height': 210\r\n",
        "                                  })\r\n",
        "        image = self.resize(image, (224, 224))\r\n",
        "        image = self.color_jitter(image)\r\n",
        "        image = self.rotate(image, angle=10)\r\n",
        "\r\n",
        "      image = tf.to_tensor(image)\r\n",
        "      image = tf.normalize(image, [0.485, 0.456, 0.406], [0.229, 0.224, 0.225])\r\n",
        "      return image"
      ],
      "execution_count": 7,
      "outputs": []
    },
    {
      "cell_type": "markdown",
      "metadata": {
        "id": "IjCPu2QlIvgP"
      },
      "source": [
        "## Dataset"
      ]
    },
    {
      "cell_type": "code",
      "metadata": {
        "id": "yYL4HHppItvT"
      },
      "source": [
        "class BeeWaspDataset(Dataset):\r\n",
        "  def __init__(self, image_dir: str = None, dataframe: pd.DataFrame = None, train: bool = False,\r\n",
        "               transforms: Transforms = None):\r\n",
        "    self.image_dir = image_dir\r\n",
        "    self.dataframe = dataframe\r\n",
        "    self.train = train\r\n",
        "    self.transforms = transforms\r\n",
        "\r\n",
        "  def __getitem__(self, index):\r\n",
        "    image_path = os.path.join(self.image_dir, self.dataframe.iloc[index][\"path\"])\r\n",
        "    image = cv2.imread(image_path)\r\n",
        "    image = cv2.cvtColor(image, cv2.COLOR_BGR2RGB)\r\n",
        "    \r\n",
        "    if self.transforms:\r\n",
        "      image = self.transforms(image)\r\n",
        "    \r\n",
        "    if self.train:\r\n",
        "      label = self.dataframe.iloc[index][\"label\"]\r\n",
        "      return image, label\r\n",
        "    else: \r\n",
        "      return image\r\n",
        "\r\n",
        "  def __len__(self):\r\n",
        "      return len(self.dataframe)"
      ],
      "execution_count": 8,
      "outputs": []
    },
    {
      "cell_type": "markdown",
      "metadata": {
        "id": "qEgS5Oa7I4nA"
      },
      "source": [
        "## Przygotowanie datasetów do treningu"
      ]
    },
    {
      "cell_type": "code",
      "metadata": {
        "id": "h0m3be1rFplQ"
      },
      "source": [
        "train_data = BeeWaspDataset(dataframe=train_df,\r\n",
        "                            image_dir=\"/content/kaggle_bee_vs_wasp/\",\r\n",
        "                            train=True,\r\n",
        "                            transforms=Transforms(train=True))\r\n",
        "\r\n",
        "val_data = BeeWaspDataset(dataframe=val_df,\r\n",
        "                          image_dir=\"/content/kaggle_bee_vs_wasp/\",\r\n",
        "                          train=True,\r\n",
        "                          transforms=Transforms(train=True))\r\n",
        "\r\n",
        "test_data = BeeWaspDataset(dataframe=test_df,\r\n",
        "                          image_dir=\"/content/kaggle_bee_vs_wasp/\",\r\n",
        "                          train=True,\r\n",
        "                          transforms=Transforms(train=False))\r\n",
        "\r\n",
        "train_loader = DataLoader(dataset=train_data, shuffle=True, batch_size=32, num_workers=4)\r\n",
        "val_loader = DataLoader(dataset=val_data, shuffle=True, batch_size=32, num_workers=4)\r\n",
        "test_loader = DataLoader(dataset=test_data, shuffle=True, batch_size=32, num_workers=4)\r\n",
        "\r\n",
        "dataloaders = {\r\n",
        "    'train': train_loader,\r\n",
        "    'val': val_loader\r\n",
        "}"
      ],
      "execution_count": 9,
      "outputs": []
    },
    {
      "cell_type": "markdown",
      "metadata": {
        "id": "Sf-Y67O3AS90"
      },
      "source": [
        "## Model sieci Resnet"
      ]
    },
    {
      "cell_type": "code",
      "metadata": {
        "id": "2pHtwYZ9ASbL"
      },
      "source": [
        "import torch\r\n",
        "import torch.nn as nn\r\n",
        "import torch.nn.functional as F\r\n",
        "\r\n",
        "\r\n",
        "class BasicBlock(nn.Module):\r\n",
        "    expansion = 1\r\n",
        "\r\n",
        "    def __init__(self, in_planes, planes, stride=1):\r\n",
        "        super(BasicBlock, self).__init__()\r\n",
        "        self.conv1 = nn.Conv2d(\r\n",
        "            in_planes, planes, kernel_size=3, stride=stride, padding=1, bias=False)\r\n",
        "        self.bn1 = nn.BatchNorm2d(planes)\r\n",
        "        self.conv2 = nn.Conv2d(planes, planes, kernel_size=3,\r\n",
        "                               stride=1, padding=1, bias=False)\r\n",
        "        self.bn2 = nn.BatchNorm2d(planes)\r\n",
        "\r\n",
        "        self.shortcut = nn.Sequential()\r\n",
        "        if stride != 1 or in_planes != self.expansion*planes:\r\n",
        "            self.shortcut = nn.Sequential(\r\n",
        "                nn.Conv2d(in_planes, self.expansion*planes,\r\n",
        "                          kernel_size=1, stride=stride, bias=False),\r\n",
        "                nn.BatchNorm2d(self.expansion*planes)\r\n",
        "            )\r\n",
        "\r\n",
        "    def forward(self, x):\r\n",
        "        out = F.relu(self.bn1(self.conv1(x)))\r\n",
        "        out = self.bn2(self.conv2(out))\r\n",
        "        out += self.shortcut(x)\r\n",
        "        out = F.relu(out)\r\n",
        "        return out\r\n",
        "\r\n",
        "\r\n",
        "class Bottleneck(nn.Module):\r\n",
        "    expansion = 4\r\n",
        "\r\n",
        "    def __init__(self, in_planes, planes, stride=1):\r\n",
        "        super(Bottleneck, self).__init__()\r\n",
        "        self.conv1 = nn.Conv2d(in_planes, planes, kernel_size=1, bias=False)\r\n",
        "        self.bn1 = nn.BatchNorm2d(planes)\r\n",
        "        self.conv2 = nn.Conv2d(planes, planes, kernel_size=3,\r\n",
        "                               stride=stride, padding=1, bias=False)\r\n",
        "        self.bn2 = nn.BatchNorm2d(planes)\r\n",
        "        self.conv3 = nn.Conv2d(planes, self.expansion *\r\n",
        "                               planes, kernel_size=1, bias=False)\r\n",
        "        self.bn3 = nn.BatchNorm2d(self.expansion*planes)\r\n",
        "\r\n",
        "        self.shortcut = nn.Sequential()\r\n",
        "        if stride != 1 or in_planes != self.expansion*planes:\r\n",
        "            self.shortcut = nn.Sequential(\r\n",
        "                nn.Conv2d(in_planes, self.expansion*planes,\r\n",
        "                          kernel_size=1, stride=stride, bias=False),\r\n",
        "                nn.BatchNorm2d(self.expansion*planes)\r\n",
        "            )\r\n",
        "\r\n",
        "    def forward(self, x):\r\n",
        "        out = F.relu(self.bn1(self.conv1(x)))\r\n",
        "        out = F.relu(self.bn2(self.conv2(out)))\r\n",
        "        out = self.bn3(self.conv3(out))\r\n",
        "        out += self.shortcut(x)\r\n",
        "        out = F.relu(out)\r\n",
        "        return out\r\n",
        "\r\n",
        "\r\n",
        "class ResNet(nn.Module):\r\n",
        "    def __init__(self, block, num_blocks, num_classes=4):\r\n",
        "        super(ResNet, self).__init__()\r\n",
        "        self.in_planes = 64\r\n",
        "\r\n",
        "        self.conv1 = nn.Conv2d(3, 64, kernel_size=3,\r\n",
        "                               stride=1, padding=1, bias=False)\r\n",
        "        self.bn1 = nn.BatchNorm2d(64)\r\n",
        "        self.layer1 = self._make_layer(block, 64, num_blocks[0], stride=1)\r\n",
        "        self.layer2 = self._make_layer(block, 128, num_blocks[1], stride=2)\r\n",
        "        self.layer3 = self._make_layer(block, 256, num_blocks[2], stride=2)\r\n",
        "        self.layer4 = self._make_layer(block, 512, num_blocks[3], stride=2)\r\n",
        "        self.linear = nn.Linear(512*16*block.expansion, num_classes)\r\n",
        "\r\n",
        "    def _make_layer(self, block, planes, num_blocks, stride):\r\n",
        "        strides = [stride] + [1]*(num_blocks-1)\r\n",
        "        layers = []\r\n",
        "        for stride in strides:\r\n",
        "            layers.append(block(self.in_planes, planes, stride))\r\n",
        "            self.in_planes = planes * block.expansion\r\n",
        "        return nn.Sequential(*layers)\r\n",
        "\r\n",
        "    def forward(self, x):\r\n",
        "        out = F.relu(self.bn1(self.conv1(x)))\r\n",
        "        out = self.layer1(out)\r\n",
        "        out = self.layer2(out)\r\n",
        "        out = self.layer3(out)\r\n",
        "        out = self.layer4(out)\r\n",
        "        out = F.adaptive_avg_pool2d(out, 4)\r\n",
        "        out = out.view(out.size(0), -1)\r\n",
        "        out = self.linear(out)\r\n",
        "        return out\r\n",
        "\r\n",
        "\r\n",
        "def ResNet18():\r\n",
        "    return ResNet(BasicBlock, [2, 2, 2, 2])\r\n",
        "\r\n",
        "\r\n",
        "def ResNet34():\r\n",
        "    return ResNet(BasicBlock, [3, 4, 6, 3])\r\n",
        "\r\n",
        "\r\n",
        "def ResNet50():\r\n",
        "    return ResNet(Bottleneck, [3, 4, 6, 3])\r\n",
        "\r\n",
        "\r\n",
        "def ResNet101():\r\n",
        "    return ResNet(Bottleneck, [3, 4, 23, 3])\r\n",
        "\r\n",
        "\r\n",
        "def ResNet152():\r\n",
        "    return ResNet(Bottleneck, [3, 8, 36, 3])\r\n",
        "\r\n",
        "\r\n",
        "# model = ResNet50()\r\n",
        "# summary(batch_size=32, input_size=(3, 224, 224), model=model)"
      ],
      "execution_count": 10,
      "outputs": []
    },
    {
      "cell_type": "markdown",
      "metadata": {
        "id": "DrjIwBk6R2UI"
      },
      "source": [
        "## Wytrenowany model z bilbiotek pytorch"
      ]
    },
    {
      "cell_type": "code",
      "metadata": {
        "id": "f1QIFvlgKkaK"
      },
      "source": [
        "from torchsummary import summary\r\n",
        "from torchvision import transforms, models\r\n",
        "\r\n",
        "\r\n",
        "class Net(nn.Module):\r\n",
        "    def __init__(self):\r\n",
        "        super(Net, self).__init__()\r\n",
        "        self.model = models.resnet50(pretrained=False)\r\n",
        "        self.model.fc = nn.Linear(512*4, 4)\r\n",
        "    \r\n",
        "    def forward(self, x):\r\n",
        "        output = self.model(x)\r\n",
        "        return output\r\n",
        "\r\n",
        "# model = Net()\r\n",
        "# summary(batch_size=32, input_size=(3, 224, 224), model=model)"
      ],
      "execution_count": 11,
      "outputs": []
    },
    {
      "cell_type": "markdown",
      "metadata": {
        "id": "RtyM0lTT_L3k"
      },
      "source": [
        "## Skrypt trenujący"
      ]
    },
    {
      "cell_type": "code",
      "metadata": {
        "id": "m0GOnnFRlYNy"
      },
      "source": [
        "import time\r\n",
        "import copy\r\n",
        "import gc \r\n",
        "\r\n",
        "\r\n",
        "gc.collect()\r\n",
        "\r\n",
        "def train(model, optimizer, scheduler, num_epochs, criterion, device):\r\n",
        "  since = time.time()\r\n",
        "\r\n",
        "  val_acc_history = []\r\n",
        "\r\n",
        "  best_model_wts = copy.deepcopy(model.state_dict())\r\n",
        "  best_acc = 0.0\r\n",
        "  \r\n",
        "  for epoch in range(num_epochs):\r\n",
        "    print('Epoch {}/{}'.format(epoch, num_epochs - 1))\r\n",
        "    print('-' * 10) \r\n",
        "\r\n",
        "    # Each epoch has a training and validation phase\r\n",
        "    for phase in ['train', 'val']:\r\n",
        "      if phase == 'train':\r\n",
        "        model.train()\r\n",
        "      else:\r\n",
        "        model.eval()\r\n",
        "\r\n",
        "      running_loss = 0.0\r\n",
        "      running_corrects = 0\r\n",
        "\r\n",
        "      # Iterate over data.\r\n",
        "      for inputs, labels in dataloaders[phase]:\r\n",
        "        inputs = inputs.to(device)\r\n",
        "        labels = labels.to(device)\r\n",
        "\r\n",
        "        # zero the parameter gradients\r\n",
        "        optimizer.zero_grad()\r\n",
        "\r\n",
        "        # forward\r\n",
        "        # track history if only in train\r\n",
        "        with torch.set_grad_enabled(phase == 'train'):\r\n",
        "            outputs = model(inputs)\r\n",
        "            loss = criterion(outputs, labels)\r\n",
        "\r\n",
        "            _, preds = torch.max(outputs, 1)\r\n",
        "            # backward + optimize only if in training phase\r\n",
        "            if phase == 'train':\r\n",
        "                loss.backward()\r\n",
        "                optimizer.step()\r\n",
        "            \r\n",
        "        # statistics\r\n",
        "        running_loss += loss.detach().item() * inputs.size(0)\r\n",
        "        running_corrects += torch.sum(preds == labels.data)\r\n",
        "\r\n",
        "      if phase == 'train':\r\n",
        "        scheduler.step()\r\n",
        "\r\n",
        "      epoch_loss = running_loss / len(dataloaders[phase].dataset)\r\n",
        "      epoch_acc = running_corrects.double() / len(dataloaders[phase].dataset)\r\n",
        "\r\n",
        "      print('{} Loss: {:.4f} Acc: {:.4f}'.format(phase, epoch_loss, epoch_acc))\r\n",
        "\r\n",
        "      # deep copy the model\r\n",
        "      if phase == 'val' and epoch_acc > best_acc:\r\n",
        "        best_acc = epoch_acc\r\n",
        "        best_model_wts = copy.deepcopy(model.state_dict())\r\n",
        "        torch.save(model.state_dict(), \"/content/kaggle_bee_vs_wasp/checkpoint.pth\")\r\n",
        "      if phase == 'val':\r\n",
        "        val_acc_history.append(epoch_acc)\r\n",
        "\r\n",
        "    print()\r\n",
        "\r\n",
        "  time_elapsed = time.time() - since\r\n",
        "  print('Training complete in {:.0f}m {:.0f}s'.format(time_elapsed // 60, time_elapsed % 60))\r\n",
        "  print('Best val Acc: {:4f}'.format(best_acc))\r\n",
        "\r\n",
        "  # load best model weights\r\n",
        "  model.load_state_dict(best_model_wts)\r\n",
        "  return model, val_acc_history"
      ],
      "execution_count": 12,
      "outputs": []
    },
    {
      "cell_type": "code",
      "metadata": {
        "colab": {
          "base_uri": "https://localhost:8080/",
          "height": 1000
        },
        "id": "WrmL8UQU_KZf",
        "outputId": "f23c1fa6-89b1-463d-8f83-a304f51416ee"
      },
      "source": [
        "from torch.optim import lr_scheduler\r\n",
        "\r\n",
        "\r\n",
        "use_cuda = torch.cuda.is_available()\r\n",
        "print(use_cuda)\r\n",
        "device = torch.device(\"cuda\" if use_cuda else \"cpu\")\r\n",
        "net = Net()\r\n",
        "net.to(device)\r\n",
        "optimizer = torch.optim.SGD(net.parameters(), lr=1e-3, momentum=0.9)\r\n",
        "exp_lr_scheduler = lr_scheduler.StepLR(optimizer, step_size=7, gamma=0.1)\r\n",
        "criterion = nn.CrossEntropyLoss()\r\n",
        "\r\n",
        "model, val_acc_history = train(net, optimizer, exp_lr_scheduler, 100, criterion, device)"
      ],
      "execution_count": 13,
      "outputs": [
        {
          "output_type": "stream",
          "text": [
            "True\n",
            "Epoch 0/99\n",
            "----------\n",
            "train Loss: 1.3174 Acc: 0.4485\n",
            "val Loss: 1.2891 Acc: 0.5311\n",
            "\n",
            "Epoch 1/99\n",
            "----------\n",
            "train Loss: 1.1753 Acc: 0.5290\n",
            "val Loss: 2.0475 Acc: 0.5119\n",
            "\n",
            "Epoch 2/99\n",
            "----------\n",
            "train Loss: 1.1348 Acc: 0.5530\n",
            "val Loss: 1.1676 Acc: 0.5521\n",
            "\n",
            "Epoch 3/99\n",
            "----------\n",
            "train Loss: 1.0821 Acc: 0.5727\n",
            "val Loss: 0.9612 Acc: 0.6259\n",
            "\n",
            "Epoch 4/99\n",
            "----------\n",
            "train Loss: 1.0244 Acc: 0.5862\n",
            "val Loss: 1.1276 Acc: 0.5678\n",
            "\n",
            "Epoch 5/99\n",
            "----------\n",
            "train Loss: 1.0155 Acc: 0.5949\n",
            "val Loss: 0.9841 Acc: 0.6137\n",
            "\n",
            "Epoch 6/99\n",
            "----------\n",
            "train Loss: 1.0006 Acc: 0.5974\n",
            "val Loss: 0.8715 Acc: 0.6498\n",
            "\n",
            "Epoch 7/99\n",
            "----------\n",
            "train Loss: 0.9021 Acc: 0.6331\n",
            "val Loss: 0.8977 Acc: 0.6434\n",
            "\n",
            "Epoch 8/99\n",
            "----------\n",
            "train Loss: 0.8878 Acc: 0.6357\n",
            "val Loss: 0.9786 Acc: 0.6283\n",
            "\n",
            "Epoch 9/99\n",
            "----------\n",
            "train Loss: 0.8808 Acc: 0.6419\n",
            "val Loss: 0.8424 Acc: 0.6574\n",
            "\n",
            "Epoch 10/99\n",
            "----------\n",
            "train Loss: 0.8674 Acc: 0.6457\n",
            "val Loss: 0.8905 Acc: 0.6399\n",
            "\n",
            "Epoch 11/99\n",
            "----------\n",
            "train Loss: 0.8754 Acc: 0.6343\n",
            "val Loss: 0.8463 Acc: 0.6527\n",
            "\n",
            "Epoch 12/99\n",
            "----------\n",
            "train Loss: 0.8680 Acc: 0.6433\n",
            "val Loss: 0.8376 Acc: 0.6672\n",
            "\n",
            "Epoch 13/99\n",
            "----------\n",
            "train Loss: 0.8615 Acc: 0.6469\n",
            "val Loss: 0.8717 Acc: 0.6451\n",
            "\n",
            "Epoch 14/99\n",
            "----------\n",
            "train Loss: 0.8534 Acc: 0.6515\n",
            "val Loss: 0.8462 Acc: 0.6603\n",
            "\n",
            "Epoch 15/99\n",
            "----------\n",
            "train Loss: 0.8533 Acc: 0.6479\n",
            "val Loss: 0.8468 Acc: 0.6638\n",
            "\n",
            "Epoch 16/99\n",
            "----------\n",
            "train Loss: 0.8503 Acc: 0.6487\n",
            "val Loss: 0.8417 Acc: 0.6562\n",
            "\n",
            "Epoch 17/99\n",
            "----------\n",
            "train Loss: 0.8521 Acc: 0.6468\n",
            "val Loss: 0.8341 Acc: 0.6632\n",
            "\n",
            "Epoch 18/99\n",
            "----------\n",
            "train Loss: 0.8452 Acc: 0.6563\n",
            "val Loss: 0.8458 Acc: 0.6696\n",
            "\n",
            "Epoch 19/99\n",
            "----------\n",
            "train Loss: 0.8449 Acc: 0.6450\n",
            "val Loss: 0.8491 Acc: 0.6521\n",
            "\n",
            "Epoch 20/99\n",
            "----------\n",
            "train Loss: 0.8466 Acc: 0.6526\n",
            "val Loss: 0.8339 Acc: 0.6731\n",
            "\n",
            "Epoch 21/99\n",
            "----------\n",
            "train Loss: 0.8608 Acc: 0.6435\n",
            "val Loss: 0.8432 Acc: 0.6574\n",
            "\n",
            "Epoch 22/99\n",
            "----------\n",
            "train Loss: 0.8396 Acc: 0.6502\n",
            "val Loss: 0.8564 Acc: 0.6440\n",
            "\n",
            "Epoch 23/99\n",
            "----------\n",
            "train Loss: 0.8440 Acc: 0.6541\n",
            "val Loss: 0.8263 Acc: 0.6702\n",
            "\n",
            "Epoch 24/99\n",
            "----------\n",
            "train Loss: 0.8549 Acc: 0.6453\n",
            "val Loss: 0.8683 Acc: 0.6597\n",
            "\n",
            "Epoch 25/99\n",
            "----------\n",
            "train Loss: 0.8495 Acc: 0.6529\n",
            "val Loss: 0.8359 Acc: 0.6574\n",
            "\n",
            "Epoch 26/99\n",
            "----------\n",
            "train Loss: 0.8479 Acc: 0.6511\n",
            "val Loss: 0.8355 Acc: 0.6481\n",
            "\n",
            "Epoch 27/99\n",
            "----------\n",
            "train Loss: 0.8526 Acc: 0.6484\n",
            "val Loss: 0.8275 Acc: 0.6550\n",
            "\n",
            "Epoch 28/99\n",
            "----------\n",
            "train Loss: 0.8467 Acc: 0.6525\n",
            "val Loss: 0.8313 Acc: 0.6597\n",
            "\n",
            "Epoch 29/99\n",
            "----------\n",
            "train Loss: 0.8479 Acc: 0.6486\n",
            "val Loss: 0.8193 Acc: 0.6649\n",
            "\n",
            "Epoch 30/99\n",
            "----------\n",
            "train Loss: 0.8536 Acc: 0.6506\n",
            "val Loss: 0.8292 Acc: 0.6591\n",
            "\n",
            "Epoch 31/99\n",
            "----------\n",
            "train Loss: 0.8421 Acc: 0.6542\n",
            "val Loss: 0.8327 Acc: 0.6608\n",
            "\n",
            "Epoch 32/99\n",
            "----------\n",
            "train Loss: 0.8485 Acc: 0.6478\n",
            "val Loss: 0.8374 Acc: 0.6649\n",
            "\n",
            "Epoch 33/99\n",
            "----------\n",
            "train Loss: 0.8508 Acc: 0.6439\n",
            "val Loss: 0.8455 Acc: 0.6655\n",
            "\n",
            "Epoch 34/99\n",
            "----------\n",
            "train Loss: 0.8511 Acc: 0.6535\n",
            "val Loss: 0.8359 Acc: 0.6597\n",
            "\n",
            "Epoch 35/99\n",
            "----------\n",
            "train Loss: 0.8537 Acc: 0.6487\n",
            "val Loss: 0.8524 Acc: 0.6451\n",
            "\n",
            "Epoch 36/99\n",
            "----------\n",
            "train Loss: 0.8508 Acc: 0.6476\n",
            "val Loss: 0.8178 Acc: 0.6672\n",
            "\n",
            "Epoch 37/99\n",
            "----------\n",
            "train Loss: 0.8447 Acc: 0.6575\n",
            "val Loss: 0.8399 Acc: 0.6527\n",
            "\n",
            "Epoch 38/99\n",
            "----------\n",
            "train Loss: 0.8486 Acc: 0.6505\n",
            "val Loss: 0.8580 Acc: 0.6568\n",
            "\n",
            "Epoch 39/99\n",
            "----------\n",
            "train Loss: 0.8391 Acc: 0.6539\n",
            "val Loss: 0.8346 Acc: 0.6638\n",
            "\n",
            "Epoch 40/99\n",
            "----------\n",
            "train Loss: 0.8427 Acc: 0.6542\n",
            "val Loss: 0.8367 Acc: 0.6608\n",
            "\n",
            "Epoch 41/99\n",
            "----------\n",
            "train Loss: 0.8488 Acc: 0.6537\n",
            "val Loss: 0.8298 Acc: 0.6643\n",
            "\n",
            "Epoch 42/99\n",
            "----------\n",
            "train Loss: 0.8477 Acc: 0.6523\n",
            "val Loss: 0.8524 Acc: 0.6504\n",
            "\n",
            "Epoch 43/99\n",
            "----------\n",
            "train Loss: 0.8457 Acc: 0.6477\n",
            "val Loss: 0.8491 Acc: 0.6446\n",
            "\n",
            "Epoch 44/99\n",
            "----------\n",
            "train Loss: 0.8454 Acc: 0.6468\n",
            "val Loss: 0.8408 Acc: 0.6707\n",
            "\n",
            "Epoch 45/99\n",
            "----------\n",
            "train Loss: 0.8548 Acc: 0.6550\n",
            "val Loss: 0.8360 Acc: 0.6579\n",
            "\n",
            "Epoch 46/99\n",
            "----------\n",
            "train Loss: 0.8474 Acc: 0.6510\n",
            "val Loss: 0.8476 Acc: 0.6545\n",
            "\n",
            "Epoch 47/99\n",
            "----------\n",
            "train Loss: 0.8481 Acc: 0.6469\n",
            "val Loss: 0.8258 Acc: 0.6643\n",
            "\n",
            "Epoch 48/99\n",
            "----------\n",
            "train Loss: 0.8536 Acc: 0.6498\n",
            "val Loss: 0.8237 Acc: 0.6585\n",
            "\n",
            "Epoch 49/99\n",
            "----------\n",
            "train Loss: 0.8445 Acc: 0.6549\n",
            "val Loss: 0.8202 Acc: 0.6556\n",
            "\n",
            "Epoch 50/99\n",
            "----------\n",
            "train Loss: 0.8513 Acc: 0.6440\n",
            "val Loss: 0.8193 Acc: 0.6655\n",
            "\n",
            "Epoch 51/99\n",
            "----------\n",
            "train Loss: 0.8478 Acc: 0.6518\n",
            "val Loss: 0.8485 Acc: 0.6475\n",
            "\n",
            "Epoch 52/99\n",
            "----------\n",
            "train Loss: 0.8472 Acc: 0.6502\n",
            "val Loss: 0.8442 Acc: 0.6556\n",
            "\n",
            "Epoch 53/99\n",
            "----------\n",
            "train Loss: 0.8549 Acc: 0.6443\n",
            "val Loss: 0.8564 Acc: 0.6515\n",
            "\n",
            "Epoch 54/99\n",
            "----------\n",
            "train Loss: 0.8528 Acc: 0.6452\n",
            "val Loss: 0.8593 Acc: 0.6591\n",
            "\n",
            "Epoch 55/99\n",
            "----------\n",
            "train Loss: 0.8539 Acc: 0.6498\n",
            "val Loss: 0.8289 Acc: 0.6684\n",
            "\n",
            "Epoch 56/99\n",
            "----------\n",
            "train Loss: 0.8578 Acc: 0.6482\n",
            "val Loss: 0.8362 Acc: 0.6684\n",
            "\n",
            "Epoch 57/99\n",
            "----------\n",
            "train Loss: 0.8406 Acc: 0.6532\n",
            "val Loss: 0.8440 Acc: 0.6638\n",
            "\n",
            "Epoch 58/99\n",
            "----------\n",
            "train Loss: 0.8505 Acc: 0.6496\n",
            "val Loss: 0.8234 Acc: 0.6638\n",
            "\n",
            "Epoch 59/99\n",
            "----------\n",
            "train Loss: 0.8473 Acc: 0.6516\n",
            "val Loss: 0.8674 Acc: 0.6463\n",
            "\n",
            "Epoch 60/99\n",
            "----------\n",
            "train Loss: 0.8502 Acc: 0.6479\n",
            "val Loss: 0.8287 Acc: 0.6702\n",
            "\n",
            "Epoch 61/99\n",
            "----------\n",
            "train Loss: 0.8515 Acc: 0.6491\n",
            "val Loss: 0.8406 Acc: 0.6597\n",
            "\n",
            "Epoch 62/99\n",
            "----------\n",
            "train Loss: 0.8508 Acc: 0.6466\n",
            "val Loss: 0.8467 Acc: 0.6620\n",
            "\n",
            "Epoch 63/99\n",
            "----------\n",
            "train Loss: 0.8501 Acc: 0.6488\n",
            "val Loss: 0.8489 Acc: 0.6498\n",
            "\n",
            "Epoch 64/99\n",
            "----------\n",
            "train Loss: 0.8467 Acc: 0.6501\n",
            "val Loss: 0.8529 Acc: 0.6568\n",
            "\n",
            "Epoch 65/99\n",
            "----------\n"
          ],
          "name": "stdout"
        },
        {
          "output_type": "error",
          "ename": "KeyboardInterrupt",
          "evalue": "ignored",
          "traceback": [
            "\u001b[0;31m---------------------------------------------------------------------------\u001b[0m",
            "\u001b[0;31mKeyboardInterrupt\u001b[0m                         Traceback (most recent call last)",
            "\u001b[0;32m<ipython-input-13-1a307d94d391>\u001b[0m in \u001b[0;36m<module>\u001b[0;34m()\u001b[0m\n\u001b[1;32m     11\u001b[0m \u001b[0mcriterion\u001b[0m \u001b[0;34m=\u001b[0m \u001b[0mnn\u001b[0m\u001b[0;34m.\u001b[0m\u001b[0mCrossEntropyLoss\u001b[0m\u001b[0;34m(\u001b[0m\u001b[0;34m)\u001b[0m\u001b[0;34m\u001b[0m\u001b[0;34m\u001b[0m\u001b[0m\n\u001b[1;32m     12\u001b[0m \u001b[0;34m\u001b[0m\u001b[0m\n\u001b[0;32m---> 13\u001b[0;31m \u001b[0mmodel\u001b[0m\u001b[0;34m,\u001b[0m \u001b[0mval_acc_history\u001b[0m \u001b[0;34m=\u001b[0m \u001b[0mtrain\u001b[0m\u001b[0;34m(\u001b[0m\u001b[0mnet\u001b[0m\u001b[0;34m,\u001b[0m \u001b[0moptimizer\u001b[0m\u001b[0;34m,\u001b[0m \u001b[0mexp_lr_scheduler\u001b[0m\u001b[0;34m,\u001b[0m \u001b[0;36m100\u001b[0m\u001b[0;34m,\u001b[0m \u001b[0mcriterion\u001b[0m\u001b[0;34m,\u001b[0m \u001b[0mdevice\u001b[0m\u001b[0;34m)\u001b[0m\u001b[0;34m\u001b[0m\u001b[0;34m\u001b[0m\u001b[0m\n\u001b[0m",
            "\u001b[0;32m<ipython-input-12-5d437e56e5c1>\u001b[0m in \u001b[0;36mtrain\u001b[0;34m(model, optimizer, scheduler, num_epochs, criterion, device)\u001b[0m\n\u001b[1;32m     49\u001b[0m \u001b[0;34m\u001b[0m\u001b[0m\n\u001b[1;32m     50\u001b[0m         \u001b[0;31m# statistics\u001b[0m\u001b[0;34m\u001b[0m\u001b[0;34m\u001b[0m\u001b[0;34m\u001b[0m\u001b[0m\n\u001b[0;32m---> 51\u001b[0;31m         \u001b[0mrunning_loss\u001b[0m \u001b[0;34m+=\u001b[0m \u001b[0mloss\u001b[0m\u001b[0;34m.\u001b[0m\u001b[0mdetach\u001b[0m\u001b[0;34m(\u001b[0m\u001b[0;34m)\u001b[0m\u001b[0;34m.\u001b[0m\u001b[0mitem\u001b[0m\u001b[0;34m(\u001b[0m\u001b[0;34m)\u001b[0m \u001b[0;34m*\u001b[0m \u001b[0minputs\u001b[0m\u001b[0;34m.\u001b[0m\u001b[0msize\u001b[0m\u001b[0;34m(\u001b[0m\u001b[0;36m0\u001b[0m\u001b[0;34m)\u001b[0m\u001b[0;34m\u001b[0m\u001b[0;34m\u001b[0m\u001b[0m\n\u001b[0m\u001b[1;32m     52\u001b[0m         \u001b[0mrunning_corrects\u001b[0m \u001b[0;34m+=\u001b[0m \u001b[0mtorch\u001b[0m\u001b[0;34m.\u001b[0m\u001b[0msum\u001b[0m\u001b[0;34m(\u001b[0m\u001b[0mpreds\u001b[0m \u001b[0;34m==\u001b[0m \u001b[0mlabels\u001b[0m\u001b[0;34m.\u001b[0m\u001b[0mdata\u001b[0m\u001b[0;34m)\u001b[0m\u001b[0;34m\u001b[0m\u001b[0;34m\u001b[0m\u001b[0m\n\u001b[1;32m     53\u001b[0m \u001b[0;34m\u001b[0m\u001b[0m\n",
            "\u001b[0;31mKeyboardInterrupt\u001b[0m: "
          ]
        }
      ]
    },
    {
      "cell_type": "markdown",
      "metadata": {
        "id": "Rm1G5OOwZrPJ"
      },
      "source": [
        "# Podsumowanie modelu"
      ]
    },
    {
      "cell_type": "code",
      "metadata": {
        "colab": {
          "base_uri": "https://localhost:8080/"
        },
        "id": "myTvEL6BZtYq",
        "outputId": "4b1bf0a2-d000-42c1-a643-f14d2ccbe238"
      },
      "source": [
        "from sklearn.metrics import confusion_matrix\r\n",
        "\r\n",
        "model_ft = Net()\r\n",
        "model_ft.load_state_dict(torch.load(\"/content/kaggle_bee_vs_wasp/checkpoint.pth\"))\r\n",
        "use_cuda = torch.cuda.is_available()\r\n",
        "print(use_cuda)\r\n",
        "device = torch.device(\"cuda\" if use_cuda else \"cpu\")\r\n",
        "model_ft.cuda()\r\n",
        "model_ft.eval()\r\n",
        "\r\n",
        "nb_classes = 4\r\n",
        "\r\n",
        "# Initialize the prediction and label lists(tensors)\r\n",
        "predlist=torch.zeros(0,dtype=torch.long, device='cpu')\r\n",
        "lbllist=torch.zeros(0,dtype=torch.long, device='cpu')\r\n",
        "\r\n",
        "with torch.no_grad():\r\n",
        "    for i, (inputs, classes) in enumerate(dataloaders['val']):\r\n",
        "        inputs = inputs.to(device)\r\n",
        "        classes = classes.to(device)\r\n",
        "        outputs = model_ft(inputs)\r\n",
        "        _, preds = torch.max(outputs, 1)\r\n",
        "\r\n",
        "        # Append batch prediction results\r\n",
        "        predlist=torch.cat([predlist,preds.view(-1).cpu()])\r\n",
        "        lbllist=torch.cat([lbllist,classes.view(-1).cpu()])\r\n",
        "\r\n",
        "# Confusion matrix\r\n",
        "conf_mat=confusion_matrix(lbllist.numpy(), predlist.numpy())\r\n",
        "print(conf_mat)\r\n",
        "\r\n",
        "# Per-class accuracy\r\n",
        "class_accuracy=100*conf_mat.diagonal()/conf_mat.sum(1)\r\n",
        "print(class_accuracy)"
      ],
      "execution_count": 24,
      "outputs": [
        {
          "output_type": "stream",
          "text": [
            "True\n",
            "[[301  64   6 113]\n",
            " [ 20 199   3 135]\n",
            " [ 19   2  15  92]\n",
            " [ 50  73  16 611]]\n",
            "[62.19008264 55.74229692 11.71875    81.46666667]\n"
          ],
          "name": "stdout"
        }
      ]
    },
    {
      "cell_type": "code",
      "metadata": {
        "colab": {
          "base_uri": "https://localhost:8080/",
          "height": 445
        },
        "id": "flqNhMJWghOI",
        "outputId": "95249a61-744a-4cbf-93a2-a05f9bb749c1"
      },
      "source": [
        "import seaborn as sn\r\n",
        "import pandas as pd\r\n",
        "import matplotlib.pyplot as plt\r\n",
        "\r\n",
        "\r\n",
        "df_cm = pd.DataFrame(conf_mat, index = [i for i in ['bee', 'wasp', 'insect', 'other']],\r\n",
        "                  columns = [i for i in ['bee', 'wasp', 'insect', 'other']])\r\n",
        "plt.figure(figsize = (10,7))\r\n",
        "sn.heatmap(df_cm, annot=True, fmt=\"d\")\r\n",
        "\r\n"
      ],
      "execution_count": 31,
      "outputs": [
        {
          "output_type": "execute_result",
          "data": {
            "text/plain": [
              "<matplotlib.axes._subplots.AxesSubplot at 0x7f0961309470>"
            ]
          },
          "metadata": {
            "tags": []
          },
          "execution_count": 31
        },
        {
          "output_type": "display_data",
          "data": {
            "image/png": "[encoded data removed]",
            "text/plain": [
              "<Figure size 720x504 with 2 Axes>"
            ]
          },
          "metadata": {
            "tags": [],
            "needs_background": "light"
          }
        }
      ]
    }
  ]
}